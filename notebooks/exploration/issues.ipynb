{
 "cells": [
  {
   "cell_type": "markdown",
   "metadata": {},
   "source": [
    "# issues"
   ]
  },
  {
   "cell_type": "code",
   "execution_count": 1,
   "metadata": {},
   "outputs": [],
   "source": [
    "import numpy as np\n",
    "import pandas as pd\n",
    "\n",
    "from pyspark.sql import functions as F\n",
    "\n",
    "import matplotlib.pyplot as plt\n",
    "import seaborn as sns"
   ]
  },
  {
   "cell_type": "code",
   "execution_count": 2,
   "metadata": {},
   "outputs": [
    {
     "name": "stdout",
     "output_type": "stream",
     "text": [
      "Using local environment.\n"
     ]
    }
   ],
   "source": [
    "import dextra.dna.core as C\n",
    "import dextra.dna.commons as P"
   ]
  },
  {
   "cell_type": "code",
   "execution_count": 3,
   "metadata": {},
   "outputs": [],
   "source": [
    "spark = P.config.spark\n",
    "\n",
    "pd.set_option('display.max_colwidth', 200)\n",
    "\n",
    "sns.set()"
   ]
  },
  {
   "cell_type": "markdown",
   "metadata": {},
   "source": [
    "## Reading Trusted Dataset"
   ]
  },
  {
   "cell_type": "code",
   "execution_count": 4,
   "metadata": {},
   "outputs": [],
   "source": [
    "DATA_FILE = P.config.lakes.refined + '/issues.parquet'"
   ]
  },
  {
   "cell_type": "code",
   "execution_count": 5,
   "metadata": {
    "scrolled": true
   },
   "outputs": [
    {
     "data": {
      "text/html": [
       "<div>\n",
       "<style scoped>\n",
       "    .dataframe tbody tr th:only-of-type {\n",
       "        vertical-align: middle;\n",
       "    }\n",
       "\n",
       "    .dataframe tbody tr th {\n",
       "        vertical-align: top;\n",
       "    }\n",
       "\n",
       "    .dataframe thead th {\n",
       "        text-align: right;\n",
       "    }\n",
       "</style>\n",
       "<table border=\"1\" class=\"dataframe\">\n",
       "  <thead>\n",
       "    <tr style=\"text-align: right;\">\n",
       "      <th></th>\n",
       "      <th>complaint_id</th>\n",
       "      <th>consumer_message</th>\n",
       "      <th>customer_name</th>\n",
       "      <th>date_received</th>\n",
       "      <th>disputed</th>\n",
       "      <th>issue</th>\n",
       "      <th>product</th>\n",
       "      <th>resolution</th>\n",
       "      <th>state</th>\n",
       "      <th>sub_issue</th>\n",
       "      <th>sub_product</th>\n",
       "      <th>tags</th>\n",
       "      <th>timely_response</th>\n",
       "      <th>via</th>\n",
       "      <th>zip_code</th>\n",
       "      <th>ingested_at</th>\n",
       "      <th>tags_trusted_labels</th>\n",
       "      <th>tags_split</th>\n",
       "      <th>text_cleaned</th>\n",
       "      <th>committed_at</th>\n",
       "    </tr>\n",
       "  </thead>\n",
       "  <tbody>\n",
       "    <tr>\n",
       "      <th>0</th>\n",
       "      <td>0052ac552c28</td>\n",
       "      <td>Hello My name is XXXX XXXX and I have a XXXX XXXX XXXX XXXX through Santander Consumer USA. I got the truck back in XXXX and had some financial hardship when my got sick and had to stop working. T...</td>\n",
       "      <td>26d89fd7bd44</td>\n",
       "      <td>2017-01-30</td>\n",
       "      <td>False</td>\n",
       "      <td>Problems when you are unable to pay</td>\n",
       "      <td>Consumer Loan</td>\n",
       "      <td>Closed with explanation</td>\n",
       "      <td>GA</td>\n",
       "      <td>None</td>\n",
       "      <td>Vehicle loan</td>\n",
       "      <td>None</td>\n",
       "      <td>True</td>\n",
       "      <td>Web</td>\n",
       "      <td>300XX</td>\n",
       "      <td>2020-12-08 18:59:37.904553</td>\n",
       "      <td>False</td>\n",
       "      <td>test</td>\n",
       "      <td>hello my name is xxxx xxxx and i have a xxxx xxxx xxxx xxxx through santander consumer usa i got the truck back in xxxx and had some financial hardship when my got sick and had to stop working the...</td>\n",
       "      <td>2020-12-08 19:01:22.031471</td>\n",
       "    </tr>\n",
       "    <tr>\n",
       "      <th>1</th>\n",
       "      <td>00a844d52aec</td>\n",
       "      <td>I have written several letters to the creditor ; XXXX and to TransUnion disputing the validity of the information that I found on my credit report. The first dispute letter was sent on XXXX XXXX d...</td>\n",
       "      <td>89dbbe6ad0b5</td>\n",
       "      <td>2016-11-11</td>\n",
       "      <td>True</td>\n",
       "      <td>Credit reporting company's investigation</td>\n",
       "      <td>Credit reporting</td>\n",
       "      <td>Closed with explanation</td>\n",
       "      <td>OH</td>\n",
       "      <td>Investigation took too long</td>\n",
       "      <td>None</td>\n",
       "      <td>None</td>\n",
       "      <td>True</td>\n",
       "      <td>Web</td>\n",
       "      <td>440XX</td>\n",
       "      <td>2020-12-08 18:59:37.904553</td>\n",
       "      <td>False</td>\n",
       "      <td>train</td>\n",
       "      <td>i have written several letters to the creditor xxxx and to transunion disputing the validity of the information that i found on my credit report the first dispute letter was sent on xxxx xxxx disp...</td>\n",
       "      <td>2020-12-08 19:01:22.031471</td>\n",
       "    </tr>\n",
       "    <tr>\n",
       "      <th>2</th>\n",
       "      <td>00ae385f4af9</td>\n",
       "      <td>This agency is reporting an account on my redit profile which does not belong to me</td>\n",
       "      <td>321a61586171</td>\n",
       "      <td>2016-10-27</td>\n",
       "      <td>False</td>\n",
       "      <td>Other</td>\n",
       "      <td>Credit card</td>\n",
       "      <td>Closed with explanation</td>\n",
       "      <td>IL</td>\n",
       "      <td>None</td>\n",
       "      <td>None</td>\n",
       "      <td>None</td>\n",
       "      <td>False</td>\n",
       "      <td>Web</td>\n",
       "      <td>604XX</td>\n",
       "      <td>2020-12-08 18:59:37.904553</td>\n",
       "      <td>False</td>\n",
       "      <td>train</td>\n",
       "      <td>this agency is reporting an account on my redit profile which does not belong to me</td>\n",
       "      <td>2020-12-08 19:01:22.031471</td>\n",
       "    </tr>\n",
       "    <tr>\n",
       "      <th>3</th>\n",
       "      <td>00da7e528dac</td>\n",
       "      <td>In XX/XX/XXXX or XX/XX/XXXX, I was contacted regarding help with forgiveness on federal student loans. A gentleman named XXXX working for Integrity Group, Inc.spoke with me regarding the process. ...</td>\n",
       "      <td>f11c4528f211</td>\n",
       "      <td>2017-08-30</td>\n",
       "      <td>None</td>\n",
       "      <td>Fraud or scam</td>\n",
       "      <td>Money transfer, virtual currency, or money service</td>\n",
       "      <td>Untimely response</td>\n",
       "      <td>PA</td>\n",
       "      <td>None</td>\n",
       "      <td>Domestic (US) money transfer</td>\n",
       "      <td>Older American</td>\n",
       "      <td>False</td>\n",
       "      <td>Web</td>\n",
       "      <td>160XX</td>\n",
       "      <td>2020-12-08 18:59:37.904553</td>\n",
       "      <td>False</td>\n",
       "      <td>train</td>\n",
       "      <td>in xx xx xxxx or xx xx xxxx i was contacted regarding help with forgiveness on federal student loans a gentleman named xxxx working for integrity group inc spoke with me regarding the process he e...</td>\n",
       "      <td>2020-12-08 19:01:22.031471</td>\n",
       "    </tr>\n",
       "    <tr>\n",
       "      <th>4</th>\n",
       "      <td>010554da4e3a</td>\n",
       "      <td>In my previous complaint Equifax states \" Equifax has reviewed your complaint and its records regarding your dispute. Please be advised XXXX XXXX XXXX and/or XXXX XXXX XXXX are not reporting on th...</td>\n",
       "      <td>3fb5aa9ff928</td>\n",
       "      <td>2016-01-06</td>\n",
       "      <td>False</td>\n",
       "      <td>Incorrect information on credit report</td>\n",
       "      <td>Credit reporting</td>\n",
       "      <td>Closed with explanation</td>\n",
       "      <td>CA</td>\n",
       "      <td>Reinserted previously deleted info</td>\n",
       "      <td>None</td>\n",
       "      <td>None</td>\n",
       "      <td>True</td>\n",
       "      <td>Web</td>\n",
       "      <td>913XX</td>\n",
       "      <td>2020-12-08 18:59:37.904553</td>\n",
       "      <td>False</td>\n",
       "      <td>test</td>\n",
       "      <td>in my previous complaint equifax states equifax has reviewed your complaint and its records regarding your dispute please be advised xxxx xxxx xxxx and or xxxx xxxx xxxx are not reporting on the e...</td>\n",
       "      <td>2020-12-08 19:01:22.031471</td>\n",
       "    </tr>\n",
       "  </tbody>\n",
       "</table>\n",
       "</div>"
      ],
      "text/plain": [
       "   complaint_id  \\\n",
       "0  0052ac552c28   \n",
       "1  00a844d52aec   \n",
       "2  00ae385f4af9   \n",
       "3  00da7e528dac   \n",
       "4  010554da4e3a   \n",
       "\n",
       "                                                                                                                                                                                          consumer_message  \\\n",
       "0  Hello My name is XXXX XXXX and I have a XXXX XXXX XXXX XXXX through Santander Consumer USA. I got the truck back in XXXX and had some financial hardship when my got sick and had to stop working. T...   \n",
       "1  I have written several letters to the creditor ; XXXX and to TransUnion disputing the validity of the information that I found on my credit report. The first dispute letter was sent on XXXX XXXX d...   \n",
       "2                                                                                                                      This agency is reporting an account on my redit profile which does not belong to me   \n",
       "3  In XX/XX/XXXX or XX/XX/XXXX, I was contacted regarding help with forgiveness on federal student loans. A gentleman named XXXX working for Integrity Group, Inc.spoke with me regarding the process. ...   \n",
       "4  In my previous complaint Equifax states \" Equifax has reviewed your complaint and its records regarding your dispute. Please be advised XXXX XXXX XXXX and/or XXXX XXXX XXXX are not reporting on th...   \n",
       "\n",
       "  customer_name date_received disputed  \\\n",
       "0  26d89fd7bd44    2017-01-30    False   \n",
       "1  89dbbe6ad0b5    2016-11-11     True   \n",
       "2  321a61586171    2016-10-27    False   \n",
       "3  f11c4528f211    2017-08-30     None   \n",
       "4  3fb5aa9ff928    2016-01-06    False   \n",
       "\n",
       "                                      issue  \\\n",
       "0       Problems when you are unable to pay   \n",
       "1  Credit reporting company's investigation   \n",
       "2                                     Other   \n",
       "3                             Fraud or scam   \n",
       "4    Incorrect information on credit report   \n",
       "\n",
       "                                              product  \\\n",
       "0                                       Consumer Loan   \n",
       "1                                    Credit reporting   \n",
       "2                                         Credit card   \n",
       "3  Money transfer, virtual currency, or money service   \n",
       "4                                    Credit reporting   \n",
       "\n",
       "                resolution state                           sub_issue  \\\n",
       "0  Closed with explanation    GA                                None   \n",
       "1  Closed with explanation    OH         Investigation took too long   \n",
       "2  Closed with explanation    IL                                None   \n",
       "3        Untimely response    PA                                None   \n",
       "4  Closed with explanation    CA  Reinserted previously deleted info   \n",
       "\n",
       "                    sub_product            tags  timely_response  via  \\\n",
       "0                  Vehicle loan            None             True  Web   \n",
       "1                          None            None             True  Web   \n",
       "2                          None            None            False  Web   \n",
       "3  Domestic (US) money transfer  Older American            False  Web   \n",
       "4                          None            None             True  Web   \n",
       "\n",
       "  zip_code                ingested_at  tags_trusted_labels tags_split  \\\n",
       "0    300XX 2020-12-08 18:59:37.904553                False       test   \n",
       "1    440XX 2020-12-08 18:59:37.904553                False      train   \n",
       "2    604XX 2020-12-08 18:59:37.904553                False      train   \n",
       "3    160XX 2020-12-08 18:59:37.904553                False      train   \n",
       "4    913XX 2020-12-08 18:59:37.904553                False       test   \n",
       "\n",
       "                                                                                                                                                                                              text_cleaned  \\\n",
       "0  hello my name is xxxx xxxx and i have a xxxx xxxx xxxx xxxx through santander consumer usa i got the truck back in xxxx and had some financial hardship when my got sick and had to stop working the...   \n",
       "1  i have written several letters to the creditor xxxx and to transunion disputing the validity of the information that i found on my credit report the first dispute letter was sent on xxxx xxxx disp...   \n",
       "2                                                                                                                      this agency is reporting an account on my redit profile which does not belong to me   \n",
       "3  in xx xx xxxx or xx xx xxxx i was contacted regarding help with forgiveness on federal student loans a gentleman named xxxx working for integrity group inc spoke with me regarding the process he e...   \n",
       "4  in my previous complaint equifax states equifax has reviewed your complaint and its records regarding your dispute please be advised xxxx xxxx xxxx and or xxxx xxxx xxxx are not reporting on the e...   \n",
       "\n",
       "                committed_at  \n",
       "0 2020-12-08 19:01:22.031471  \n",
       "1 2020-12-08 19:01:22.031471  \n",
       "2 2020-12-08 19:01:22.031471  \n",
       "3 2020-12-08 19:01:22.031471  \n",
       "4 2020-12-08 19:01:22.031471  "
      ]
     },
     "execution_count": 5,
     "metadata": {},
     "output_type": "execute_result"
    }
   ],
   "source": [
    "x = C.io.stream.read(DATA_FILE)\n",
    "\n",
    "x.limit(5).toPandas()"
   ]
  },
  {
   "cell_type": "markdown",
   "metadata": {},
   "source": [
    "## Issues"
   ]
  },
  {
   "cell_type": "code",
   "execution_count": 6,
   "metadata": {},
   "outputs": [
    {
     "data": {
      "text/html": [
       "<div>\n",
       "<style scoped>\n",
       "    .dataframe tbody tr th:only-of-type {\n",
       "        vertical-align: middle;\n",
       "    }\n",
       "\n",
       "    .dataframe tbody tr th {\n",
       "        vertical-align: top;\n",
       "    }\n",
       "\n",
       "    .dataframe thead th {\n",
       "        text-align: right;\n",
       "    }\n",
       "</style>\n",
       "<table border=\"1\" class=\"dataframe\">\n",
       "  <thead>\n",
       "    <tr style=\"text-align: right;\">\n",
       "      <th></th>\n",
       "      <th>issue</th>\n",
       "      <th>count</th>\n",
       "    </tr>\n",
       "  </thead>\n",
       "  <tbody>\n",
       "    <tr>\n",
       "      <th>0</th>\n",
       "      <td>Incorrect information on credit report</td>\n",
       "      <td>21220</td>\n",
       "    </tr>\n",
       "    <tr>\n",
       "      <th>1</th>\n",
       "      <td>Cont'd attempts collect debt not owed</td>\n",
       "      <td>17447</td>\n",
       "    </tr>\n",
       "    <tr>\n",
       "      <th>2</th>\n",
       "      <td>Loan servicing, payments, escrow account</td>\n",
       "      <td>14727</td>\n",
       "    </tr>\n",
       "    <tr>\n",
       "      <th>3</th>\n",
       "      <td>Loan modification,collection,foreclosure</td>\n",
       "      <td>10791</td>\n",
       "    </tr>\n",
       "    <tr>\n",
       "      <th>4</th>\n",
       "      <td>Dealing with my lender or servicer</td>\n",
       "      <td>7910</td>\n",
       "    </tr>\n",
       "    <tr>\n",
       "      <th>5</th>\n",
       "      <td>Disclosure verification of debt</td>\n",
       "      <td>7595</td>\n",
       "    </tr>\n",
       "    <tr>\n",
       "      <th>6</th>\n",
       "      <td>Incorrect information on your report</td>\n",
       "      <td>7373</td>\n",
       "    </tr>\n",
       "    <tr>\n",
       "      <th>7</th>\n",
       "      <td>Communication tactics</td>\n",
       "      <td>6651</td>\n",
       "    </tr>\n",
       "    <tr>\n",
       "      <th>8</th>\n",
       "      <td>Account opening, closing, or management</td>\n",
       "      <td>6348</td>\n",
       "    </tr>\n",
       "    <tr>\n",
       "      <th>9</th>\n",
       "      <td>Credit reporting company's investigation</td>\n",
       "      <td>5663</td>\n",
       "    </tr>\n",
       "  </tbody>\n",
       "</table>\n",
       "</div>"
      ],
      "text/plain": [
       "                                      issue  count\n",
       "0    Incorrect information on credit report  21220\n",
       "1     Cont'd attempts collect debt not owed  17447\n",
       "2  Loan servicing, payments, escrow account  14727\n",
       "3  Loan modification,collection,foreclosure  10791\n",
       "4        Dealing with my lender or servicer   7910\n",
       "5           Disclosure verification of debt   7595\n",
       "6      Incorrect information on your report   7373\n",
       "7                     Communication tactics   6651\n",
       "8   Account opening, closing, or management   6348\n",
       "9  Credit reporting company's investigation   5663"
      ]
     },
     "execution_count": 6,
     "metadata": {},
     "output_type": "execute_result"
    }
   ],
   "source": [
    "issues_s = (\n",
    "    x.groupBy('issue')\n",
    "     .count()\n",
    "     .orderBy(F.desc('count'))\n",
    "     .limit(10)\n",
    "     .toPandas())\n",
    "\n",
    "issues_s"
   ]
  },
  {
   "cell_type": "code",
   "execution_count": 7,
   "metadata": {},
   "outputs": [
    {
     "data": {
      "image/png": "[encoded data removed]",
      "text/plain": [
       "<Figure size 432x288 with 1 Axes>"
      ]
     },
     "metadata": {},
     "output_type": "display_data"
    }
   ],
   "source": [
    "sns.barplot(data=issues_s, x='issue', y='count')\n",
    "plt.xticks(rotation=90);"
   ]
  },
  {
   "cell_type": "markdown",
   "metadata": {},
   "source": [
    "### Complaints per User"
   ]
  },
  {
   "cell_type": "code",
   "execution_count": 8,
   "metadata": {},
   "outputs": [
    {
     "name": "stdout",
     "output_type": "stream",
     "text": [
      "users with a single complaint:\n"
     ]
    },
    {
     "data": {
      "text/html": [
       "<div>\n",
       "<style scoped>\n",
       "    .dataframe tbody tr th:only-of-type {\n",
       "        vertical-align: middle;\n",
       "    }\n",
       "\n",
       "    .dataframe tbody tr th {\n",
       "        vertical-align: top;\n",
       "    }\n",
       "\n",
       "    .dataframe thead th {\n",
       "        text-align: right;\n",
       "    }\n",
       "</style>\n",
       "<table border=\"1\" class=\"dataframe\">\n",
       "  <thead>\n",
       "    <tr style=\"text-align: right;\">\n",
       "      <th></th>\n",
       "      <th>count</th>\n",
       "      <th>mean</th>\n",
       "      <th>std</th>\n",
       "      <th>min</th>\n",
       "      <th>25%</th>\n",
       "      <th>50%</th>\n",
       "      <th>75%</th>\n",
       "      <th>max</th>\n",
       "    </tr>\n",
       "  </thead>\n",
       "  <tbody>\n",
       "    <tr>\n",
       "      <th>count</th>\n",
       "      <td>11806.0</td>\n",
       "      <td>1.659156</td>\n",
       "      <td>1.827236</td>\n",
       "      <td>1.0</td>\n",
       "      <td>1.0</td>\n",
       "      <td>1.0</td>\n",
       "      <td>2.0</td>\n",
       "      <td>42.0</td>\n",
       "    </tr>\n",
       "  </tbody>\n",
       "</table>\n",
       "</div>"
      ],
      "text/plain": [
       "         count      mean       std  min  25%  50%  75%   max\n",
       "count  11806.0  1.659156  1.827236  1.0  1.0  1.0  2.0  42.0"
      ]
     },
     "execution_count": 8,
     "metadata": {},
     "output_type": "execute_result"
    }
   ],
   "source": [
    "print('users with a single complaint:')\n",
    "complaints_per_client_s = (\n",
    "    x.groupBy('customer_name')\n",
    "     .count()\n",
    "     .sample(True, 0.1, seed=519753)\n",
    "     .toPandas())\n",
    "\n",
    "complaints_per_client_s.describe().T"
   ]
  },
  {
   "cell_type": "code",
   "execution_count": 9,
   "metadata": {},
   "outputs": [
    {
     "data": {
      "image/png": "[encoded data removed]",
      "text/plain": [
       "<Figure size 430.725x360 with 1 Axes>"
      ]
     },
     "metadata": {},
     "output_type": "display_data"
    }
   ],
   "source": [
    "sns.displot(complaints_per_client_s, bins=20);"
   ]
  },
  {
   "cell_type": "markdown",
   "metadata": {},
   "source": [
    "### Dates in Which Complaints Occurred"
   ]
  },
  {
   "cell_type": "code",
   "execution_count": 10,
   "metadata": {},
   "outputs": [
    {
     "data": {
      "text/html": [
       "<div>\n",
       "<style scoped>\n",
       "    .dataframe tbody tr th:only-of-type {\n",
       "        vertical-align: middle;\n",
       "    }\n",
       "\n",
       "    .dataframe tbody tr th {\n",
       "        vertical-align: top;\n",
       "    }\n",
       "\n",
       "    .dataframe thead th {\n",
       "        text-align: right;\n",
       "    }\n",
       "</style>\n",
       "<table border=\"1\" class=\"dataframe\">\n",
       "  <thead>\n",
       "    <tr style=\"text-align: right;\">\n",
       "      <th></th>\n",
       "      <th>count</th>\n",
       "      <th>unique</th>\n",
       "      <th>top</th>\n",
       "      <th>freq</th>\n",
       "    </tr>\n",
       "  </thead>\n",
       "  <tbody>\n",
       "    <tr>\n",
       "      <th>date_received</th>\n",
       "      <td>19713</td>\n",
       "      <td>918</td>\n",
       "      <td>2017-01-19</td>\n",
       "      <td>101</td>\n",
       "    </tr>\n",
       "  </tbody>\n",
       "</table>\n",
       "</div>"
      ],
      "text/plain": [
       "               count unique         top freq\n",
       "date_received  19713    918  2017-01-19  101"
      ]
     },
     "execution_count": 10,
     "metadata": {},
     "output_type": "execute_result"
    }
   ],
   "source": [
    "receiving_dates_s = (\n",
    "    x.select('date_received')\n",
    "     .sample(True, 0.1, seed=519753)\n",
    "     .toPandas())\n",
    "\n",
    "receiving_dates_s.describe().T"
   ]
  },
  {
   "cell_type": "code",
   "execution_count": 11,
   "metadata": {},
   "outputs": [
    {
     "name": "stderr",
     "output_type": "stream",
     "text": [
      "/opt/conda/lib/python3.8/site-packages/seaborn/distributions.py:2551: FutureWarning: `distplot` is a deprecated function and will be removed in a future version. Please adapt your code to use either `displot` (a figure-level function with similar flexibility) or `histplot` (an axes-level function for histograms).\n",
      "  warnings.warn(msg, FutureWarning)\n"
     ]
    },
    {
     "data": {
      "image/png": "[encoded data removed]",
      "text/plain": [
       "<Figure size 432x288 with 1 Axes>"
      ]
     },
     "metadata": {},
     "output_type": "display_data"
    }
   ],
   "source": [
    "sns.distplot(receiving_dates_s.values.astype('datetime64'));"
   ]
  },
  {
   "cell_type": "markdown",
   "metadata": {},
   "source": [
    "### Location"
   ]
  },
  {
   "cell_type": "code",
   "execution_count": 12,
   "metadata": {},
   "outputs": [
    {
     "data": {
      "image/png": "[encoded data removed]",
      "text/plain": [
       "<Figure size 432x288 with 1 Axes>"
      ]
     },
     "metadata": {},
     "output_type": "display_data"
    }
   ],
   "source": [
    "(x.where(x.zip_code.isNotNull())\n",
    "  .groupBy('zip_code')\n",
    "  .count()\n",
    "  .orderBy(F.desc('count'))\n",
    "  .limit(20)\n",
    "  .toPandas()\n",
    "  .set_index('zip_code')\n",
    "  .plot(kind='bar'));"
   ]
  }
 ],
 "metadata": {
  "kernelspec": {
   "display_name": "Python 3",
   "language": "python",
   "name": "python3"
  },
  "language_info": {
   "codemirror_mode": {
    "name": "ipython",
    "version": 3
   },
   "file_extension": ".py",
   "mimetype": "text/x-python",
   "name": "python",
   "nbconvert_exporter": "python",
   "pygments_lexer": "ipython3",
   "version": "3.8.6"
  }
 },
 "nbformat": 4,
 "nbformat_minor": 4
}
