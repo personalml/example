{
 "cells": [
  {
   "cell_type": "markdown",
   "metadata": {},
   "source": [
    "# issues"
   ]
  },
  {
   "cell_type": "code",
   "execution_count": 10,
   "metadata": {},
   "outputs": [],
   "source": [
    "import numpy as np\n",
    "import pandas as pd\n",
    "\n",
    "from pyspark.sql import functions as F\n",
    "\n",
    "import matplotlib.pyplot as plt\n",
    "import seaborn as sns"
   ]
  },
  {
   "cell_type": "code",
   "execution_count": 11,
   "metadata": {},
   "outputs": [],
   "source": [
    "import dextra.dna.core as C\n",
    "import dextra.dna.commons as P"
   ]
  },
  {
   "cell_type": "code",
   "execution_count": 12,
   "metadata": {},
   "outputs": [],
   "source": [
    "spark = P.config.spark\n",
    "\n",
    "pd.set_option('display.max_colwidth', 200)\n",
    "\n",
    "sns.set()"
   ]
  },
  {
   "cell_type": "markdown",
   "metadata": {},
   "source": [
    "## Reading Trusted Dataset"
   ]
  },
  {
   "cell_type": "code",
   "execution_count": 13,
   "metadata": {},
   "outputs": [],
   "source": [
    "DATA_FILE = P.config.lakes.refined + '/issues.parquet'"
   ]
  },
  {
   "cell_type": "code",
   "execution_count": 14,
   "metadata": {
    "scrolled": true
   },
   "outputs": [
    {
     "data": {
      "text/html": [
       "<div>\n",
       "<style scoped>\n",
       "    .dataframe tbody tr th:only-of-type {\n",
       "        vertical-align: middle;\n",
       "    }\n",
       "\n",
       "    .dataframe tbody tr th {\n",
       "        vertical-align: top;\n",
       "    }\n",
       "\n",
       "    .dataframe thead th {\n",
       "        text-align: right;\n",
       "    }\n",
       "</style>\n",
       "<table border=\"1\" class=\"dataframe\">\n",
       "  <thead>\n",
       "    <tr style=\"text-align: right;\">\n",
       "      <th></th>\n",
       "      <th>complaint_id</th>\n",
       "      <th>consumer_message</th>\n",
       "      <th>customer_name</th>\n",
       "      <th>date_received</th>\n",
       "      <th>disputed</th>\n",
       "      <th>issue</th>\n",
       "      <th>product</th>\n",
       "      <th>resolution</th>\n",
       "      <th>state</th>\n",
       "      <th>sub_issue</th>\n",
       "      <th>sub_product</th>\n",
       "      <th>tags</th>\n",
       "      <th>timely_response</th>\n",
       "      <th>via</th>\n",
       "      <th>zip_code</th>\n",
       "      <th>ingested_at</th>\n",
       "    </tr>\n",
       "  </thead>\n",
       "  <tbody>\n",
       "    <tr>\n",
       "      <th>0</th>\n",
       "      <td>fbf77b8d5880</td>\n",
       "      <td>3463 Averst Bank 2008 this is to old to be on my credit repot. Its 4985. I want this removed. I gave this back to then. They sold me a lemon. The transmission had went out of this thing after a 44...</td>\n",
       "      <td>ecbc39add660</td>\n",
       "      <td>2017-01-16</td>\n",
       "      <td>False</td>\n",
       "      <td>Cont'd attempts collect debt not owed</td>\n",
       "      <td>Debt collection</td>\n",
       "      <td>Closed with explanation</td>\n",
       "      <td>960999033556</td>\n",
       "      <td>Debt was paid</td>\n",
       "      <td>Auto</td>\n",
       "      <td>None</td>\n",
       "      <td>True</td>\n",
       "      <td>Web</td>\n",
       "      <td>73123</td>\n",
       "      <td>2020-12-03 20:01:53.662609</td>\n",
       "    </tr>\n",
       "    <tr>\n",
       "      <th>1</th>\n",
       "      <td>fbf7e0affa38</td>\n",
       "      <td>My loan was sold to Nationstar. At the time there was a {$1400.00} escrow surplus. However after one month, NS sent a letter stating that an audit revealed I had a shortage of {$500.00} and my pym...</td>\n",
       "      <td>dd0bf53c5982</td>\n",
       "      <td>2015-09-02</td>\n",
       "      <td>True</td>\n",
       "      <td>Loan servicing, payments, escrow account</td>\n",
       "      <td>Mortgage</td>\n",
       "      <td>Closed with explanation</td>\n",
       "      <td>577ce5eff01b</td>\n",
       "      <td>None</td>\n",
       "      <td>Conventional fixed mortgage</td>\n",
       "      <td>None</td>\n",
       "      <td>True</td>\n",
       "      <td>Web</td>\n",
       "      <td>91113</td>\n",
       "      <td>2020-12-03 20:01:53.662609</td>\n",
       "    </tr>\n",
       "    <tr>\n",
       "      <th>2</th>\n",
       "      <td>fbf7fda793c5</td>\n",
       "      <td>Dear Sir or Madam : I am writing to file a complaint against USAA following their handling of a dispute of a billing error in the amount of {$1300.00} 0662 on my USAA {phone} account. The amount i...</td>\n",
       "      <td>8c6ba4882fdb</td>\n",
       "      <td>2015-09-09</td>\n",
       "      <td>False</td>\n",
       "      <td>Billing disputes</td>\n",
       "      <td>Credit card</td>\n",
       "      <td>Closed with explanation</td>\n",
       "      <td>86266b7866cc</td>\n",
       "      <td>None</td>\n",
       "      <td>None</td>\n",
       "      <td>Servicemember</td>\n",
       "      <td>True</td>\n",
       "      <td>Web</td>\n",
       "      <td>10064</td>\n",
       "      <td>2020-12-03 20:01:53.662609</td>\n",
       "    </tr>\n",
       "    <tr>\n",
       "      <th>3</th>\n",
       "      <td>fbf80c5bdf5f</td>\n",
       "      <td>PLEASE FIND ATTACHED LETTER I WROTE TO THE MORTGAGE COMPANY THAT I USED TO BE WITH AND PAY PAYMENTS. THEY ARE REPORTING LATE PAYMENT, I WAS 8556  TO 6951 BACK THEN AND MY PARENTS MADE A MISTAKE AN...</td>\n",
       "      <td>9d59e25a9a81</td>\n",
       "      <td>2017-08-30</td>\n",
       "      <td>None</td>\n",
       "      <td>Incorrect information on your report</td>\n",
       "      <td>Credit reporting, credit repair services, or other personal consumer reports</td>\n",
       "      <td>Closed with explanation</td>\n",
       "      <td>577ce5eff01b</td>\n",
       "      <td>Account status incorrect</td>\n",
       "      <td>Credit reporting</td>\n",
       "      <td>Servicemember</td>\n",
       "      <td>True</td>\n",
       "      <td>Web</td>\n",
       "      <td>91687</td>\n",
       "      <td>2020-12-03 20:01:53.662609</td>\n",
       "    </tr>\n",
       "    <tr>\n",
       "      <th>4</th>\n",
       "      <td>fbf897be7d3d</td>\n",
       "      <td>Merchants Credit continues to report  8030  paid medical accounts that were the result of a billing error despite my written letters and being notified in writing by original creditor (  9160   97...</td>\n",
       "      <td>ba5bdf5ece97</td>\n",
       "      <td>2017-05-22</td>\n",
       "      <td>None</td>\n",
       "      <td>Attempts to collect debt not owed</td>\n",
       "      <td>Debt collection</td>\n",
       "      <td>Untimely response</td>\n",
       "      <td>b621dda48fda</td>\n",
       "      <td>Debt was paid</td>\n",
       "      <td>Medical debt</td>\n",
       "      <td>None</td>\n",
       "      <td>False</td>\n",
       "      <td>Web</td>\n",
       "      <td>98095</td>\n",
       "      <td>2020-12-03 20:01:53.662609</td>\n",
       "    </tr>\n",
       "  </tbody>\n",
       "</table>\n",
       "</div>"
      ],
      "text/plain": [
       "   complaint_id  \\\n",
       "0  fbf77b8d5880   \n",
       "1  fbf7e0affa38   \n",
       "2  fbf7fda793c5   \n",
       "3  fbf80c5bdf5f   \n",
       "4  fbf897be7d3d   \n",
       "\n",
       "                                                                                                                                                                                          consumer_message  \\\n",
       "0  3463 Averst Bank 2008 this is to old to be on my credit repot. Its 4985. I want this removed. I gave this back to then. They sold me a lemon. The transmission had went out of this thing after a 44...   \n",
       "1  My loan was sold to Nationstar. At the time there was a {$1400.00} escrow surplus. However after one month, NS sent a letter stating that an audit revealed I had a shortage of {$500.00} and my pym...   \n",
       "2  Dear Sir or Madam : I am writing to file a complaint against USAA following their handling of a dispute of a billing error in the amount of {$1300.00} 0662 on my USAA {phone} account. The amount i...   \n",
       "3  PLEASE FIND ATTACHED LETTER I WROTE TO THE MORTGAGE COMPANY THAT I USED TO BE WITH AND PAY PAYMENTS. THEY ARE REPORTING LATE PAYMENT, I WAS 8556  TO 6951 BACK THEN AND MY PARENTS MADE A MISTAKE AN...   \n",
       "4  Merchants Credit continues to report  8030  paid medical accounts that were the result of a billing error despite my written letters and being notified in writing by original creditor (  9160   97...   \n",
       "\n",
       "  customer_name date_received disputed  \\\n",
       "0  ecbc39add660    2017-01-16    False   \n",
       "1  dd0bf53c5982    2015-09-02     True   \n",
       "2  8c6ba4882fdb    2015-09-09    False   \n",
       "3  9d59e25a9a81    2017-08-30     None   \n",
       "4  ba5bdf5ece97    2017-05-22     None   \n",
       "\n",
       "                                      issue  \\\n",
       "0     Cont'd attempts collect debt not owed   \n",
       "1  Loan servicing, payments, escrow account   \n",
       "2                          Billing disputes   \n",
       "3      Incorrect information on your report   \n",
       "4         Attempts to collect debt not owed   \n",
       "\n",
       "                                                                        product  \\\n",
       "0                                                               Debt collection   \n",
       "1                                                                      Mortgage   \n",
       "2                                                                   Credit card   \n",
       "3  Credit reporting, credit repair services, or other personal consumer reports   \n",
       "4                                                               Debt collection   \n",
       "\n",
       "                resolution         state                 sub_issue  \\\n",
       "0  Closed with explanation  960999033556             Debt was paid   \n",
       "1  Closed with explanation  577ce5eff01b                      None   \n",
       "2  Closed with explanation  86266b7866cc                      None   \n",
       "3  Closed with explanation  577ce5eff01b  Account status incorrect   \n",
       "4        Untimely response  b621dda48fda             Debt was paid   \n",
       "\n",
       "                   sub_product           tags  timely_response  via zip_code  \\\n",
       "0                         Auto           None             True  Web    73123   \n",
       "1  Conventional fixed mortgage           None             True  Web    91113   \n",
       "2                         None  Servicemember             True  Web    10064   \n",
       "3             Credit reporting  Servicemember             True  Web    91687   \n",
       "4                 Medical debt           None            False  Web    98095   \n",
       "\n",
       "                 ingested_at  \n",
       "0 2020-12-03 20:01:53.662609  \n",
       "1 2020-12-03 20:01:53.662609  \n",
       "2 2020-12-03 20:01:53.662609  \n",
       "3 2020-12-03 20:01:53.662609  \n",
       "4 2020-12-03 20:01:53.662609  "
      ]
     },
     "execution_count": 14,
     "metadata": {},
     "output_type": "execute_result"
    }
   ],
   "source": [
    "x = C.io.stream.read(DATA_FILE)\n",
    "\n",
    "x.limit(5).toPandas()"
   ]
  },
  {
   "cell_type": "markdown",
   "metadata": {},
   "source": [
    "## Issues"
   ]
  },
  {
   "cell_type": "code",
   "execution_count": 15,
   "metadata": {},
   "outputs": [
    {
     "data": {
      "text/html": [
       "<div>\n",
       "<style scoped>\n",
       "    .dataframe tbody tr th:only-of-type {\n",
       "        vertical-align: middle;\n",
       "    }\n",
       "\n",
       "    .dataframe tbody tr th {\n",
       "        vertical-align: top;\n",
       "    }\n",
       "\n",
       "    .dataframe thead th {\n",
       "        text-align: right;\n",
       "    }\n",
       "</style>\n",
       "<table border=\"1\" class=\"dataframe\">\n",
       "  <thead>\n",
       "    <tr style=\"text-align: right;\">\n",
       "      <th></th>\n",
       "      <th>issue</th>\n",
       "      <th>count</th>\n",
       "    </tr>\n",
       "  </thead>\n",
       "  <tbody>\n",
       "    <tr>\n",
       "      <th>0</th>\n",
       "      <td>Incorrect information on credit report</td>\n",
       "      <td>21220</td>\n",
       "    </tr>\n",
       "    <tr>\n",
       "      <th>1</th>\n",
       "      <td>Cont'd attempts collect debt not owed</td>\n",
       "      <td>17447</td>\n",
       "    </tr>\n",
       "    <tr>\n",
       "      <th>2</th>\n",
       "      <td>Loan servicing, payments, escrow account</td>\n",
       "      <td>14727</td>\n",
       "    </tr>\n",
       "    <tr>\n",
       "      <th>3</th>\n",
       "      <td>Loan modification,collection,foreclosure</td>\n",
       "      <td>10791</td>\n",
       "    </tr>\n",
       "    <tr>\n",
       "      <th>4</th>\n",
       "      <td>Dealing with my lender or servicer</td>\n",
       "      <td>7910</td>\n",
       "    </tr>\n",
       "    <tr>\n",
       "      <th>5</th>\n",
       "      <td>Disclosure verification of debt</td>\n",
       "      <td>7595</td>\n",
       "    </tr>\n",
       "    <tr>\n",
       "      <th>6</th>\n",
       "      <td>Incorrect information on your report</td>\n",
       "      <td>7373</td>\n",
       "    </tr>\n",
       "    <tr>\n",
       "      <th>7</th>\n",
       "      <td>Communication tactics</td>\n",
       "      <td>6651</td>\n",
       "    </tr>\n",
       "    <tr>\n",
       "      <th>8</th>\n",
       "      <td>Account opening, closing, or management</td>\n",
       "      <td>6348</td>\n",
       "    </tr>\n",
       "    <tr>\n",
       "      <th>9</th>\n",
       "      <td>Credit reporting company's investigation</td>\n",
       "      <td>5663</td>\n",
       "    </tr>\n",
       "  </tbody>\n",
       "</table>\n",
       "</div>"
      ],
      "text/plain": [
       "                                      issue  count\n",
       "0    Incorrect information on credit report  21220\n",
       "1     Cont'd attempts collect debt not owed  17447\n",
       "2  Loan servicing, payments, escrow account  14727\n",
       "3  Loan modification,collection,foreclosure  10791\n",
       "4        Dealing with my lender or servicer   7910\n",
       "5           Disclosure verification of debt   7595\n",
       "6      Incorrect information on your report   7373\n",
       "7                     Communication tactics   6651\n",
       "8   Account opening, closing, or management   6348\n",
       "9  Credit reporting company's investigation   5663"
      ]
     },
     "execution_count": 15,
     "metadata": {},
     "output_type": "execute_result"
    }
   ],
   "source": [
    "issues_s = (\n",
    "    x.groupBy('issue')\n",
    "     .count()\n",
    "     .orderBy(F.desc('count'))\n",
    "     .limit(10)\n",
    "     .toPandas())\n",
    "\n",
    "issues_s"
   ]
  },
  {
   "cell_type": "code",
   "execution_count": 16,
   "metadata": {},
   "outputs": [
    {
     "data": {
      "image/png": "[encoded data removed]",
      "text/plain": [
       "<Figure size 432x288 with 1 Axes>"
      ]
     },
     "metadata": {},
     "output_type": "display_data"
    }
   ],
   "source": [
    "sns.barplot(data=issues_s, x='issue', y='count')\n",
    "plt.xticks(rotation=90);"
   ]
  },
  {
   "cell_type": "markdown",
   "metadata": {},
   "source": [
    "### Complaints per User"
   ]
  },
  {
   "cell_type": "code",
   "execution_count": 17,
   "metadata": {},
   "outputs": [
    {
     "name": "stdout",
     "output_type": "stream",
     "text": [
      "users with a single complaint:\n"
     ]
    },
    {
     "data": {
      "text/html": [
       "<div>\n",
       "<style scoped>\n",
       "    .dataframe tbody tr th:only-of-type {\n",
       "        vertical-align: middle;\n",
       "    }\n",
       "\n",
       "    .dataframe tbody tr th {\n",
       "        vertical-align: top;\n",
       "    }\n",
       "\n",
       "    .dataframe thead th {\n",
       "        text-align: right;\n",
       "    }\n",
       "</style>\n",
       "<table border=\"1\" class=\"dataframe\">\n",
       "  <thead>\n",
       "    <tr style=\"text-align: right;\">\n",
       "      <th></th>\n",
       "      <th>count</th>\n",
       "      <th>mean</th>\n",
       "      <th>std</th>\n",
       "      <th>min</th>\n",
       "      <th>25%</th>\n",
       "      <th>50%</th>\n",
       "      <th>75%</th>\n",
       "      <th>max</th>\n",
       "    </tr>\n",
       "  </thead>\n",
       "  <tbody>\n",
       "    <tr>\n",
       "      <th>count</th>\n",
       "      <td>11793.0</td>\n",
       "      <td>1.683032</td>\n",
       "      <td>2.239274</td>\n",
       "      <td>1.0</td>\n",
       "      <td>1.0</td>\n",
       "      <td>1.0</td>\n",
       "      <td>2.0</td>\n",
       "      <td>111.0</td>\n",
       "    </tr>\n",
       "  </tbody>\n",
       "</table>\n",
       "</div>"
      ],
      "text/plain": [
       "         count      mean       std  min  25%  50%  75%    max\n",
       "count  11793.0  1.683032  2.239274  1.0  1.0  1.0  2.0  111.0"
      ]
     },
     "execution_count": 17,
     "metadata": {},
     "output_type": "execute_result"
    }
   ],
   "source": [
    "print('users with a single complaint:')\n",
    "complaints_per_client_s = (\n",
    "    x.groupBy('customer_name')\n",
    "     .count()\n",
    "     .sample(True, 0.1, seed=519753)\n",
    "     .toPandas())\n",
    "\n",
    "complaints_per_client_s.describe().T"
   ]
  },
  {
   "cell_type": "code",
   "execution_count": 18,
   "metadata": {},
   "outputs": [
    {
     "data": {
      "image/png": "[encoded data removed]",
      "text/plain": [
       "<Figure size 430.725x360 with 1 Axes>"
      ]
     },
     "metadata": {},
     "output_type": "display_data"
    }
   ],
   "source": [
    "sns.displot(complaints_per_client_s, bins=20);"
   ]
  },
  {
   "cell_type": "markdown",
   "metadata": {},
   "source": [
    "### Dates in Which Complaints Occurred"
   ]
  },
  {
   "cell_type": "code",
   "execution_count": 19,
   "metadata": {},
   "outputs": [
    {
     "data": {
      "text/html": [
       "<div>\n",
       "<style scoped>\n",
       "    .dataframe tbody tr th:only-of-type {\n",
       "        vertical-align: middle;\n",
       "    }\n",
       "\n",
       "    .dataframe tbody tr th {\n",
       "        vertical-align: top;\n",
       "    }\n",
       "\n",
       "    .dataframe thead th {\n",
       "        text-align: right;\n",
       "    }\n",
       "</style>\n",
       "<table border=\"1\" class=\"dataframe\">\n",
       "  <thead>\n",
       "    <tr style=\"text-align: right;\">\n",
       "      <th></th>\n",
       "      <th>count</th>\n",
       "      <th>unique</th>\n",
       "      <th>top</th>\n",
       "      <th>freq</th>\n",
       "    </tr>\n",
       "  </thead>\n",
       "  <tbody>\n",
       "    <tr>\n",
       "      <th>date_received</th>\n",
       "      <td>19937</td>\n",
       "      <td>919</td>\n",
       "      <td>2017-01-19</td>\n",
       "      <td>108</td>\n",
       "    </tr>\n",
       "  </tbody>\n",
       "</table>\n",
       "</div>"
      ],
      "text/plain": [
       "               count unique         top freq\n",
       "date_received  19937    919  2017-01-19  108"
      ]
     },
     "execution_count": 19,
     "metadata": {},
     "output_type": "execute_result"
    }
   ],
   "source": [
    "receiving_dates_s = (\n",
    "    x.select('date_received')\n",
    "     .sample(True, 0.1, seed=519753)\n",
    "     .toPandas())\n",
    "\n",
    "receiving_dates_s.describe().T"
   ]
  },
  {
   "cell_type": "code",
   "execution_count": 20,
   "metadata": {},
   "outputs": [
    {
     "name": "stderr",
     "output_type": "stream",
     "text": [
      "/opt/conda/lib/python3.8/site-packages/seaborn/distributions.py:2551: FutureWarning: `distplot` is a deprecated function and will be removed in a future version. Please adapt your code to use either `displot` (a figure-level function with similar flexibility) or `histplot` (an axes-level function for histograms).\n",
      "  warnings.warn(msg, FutureWarning)\n"
     ]
    },
    {
     "data": {
      "image/png": "[encoded data removed]",
      "text/plain": [
       "<Figure size 432x288 with 1 Axes>"
      ]
     },
     "metadata": {},
     "output_type": "display_data"
    }
   ],
   "source": [
    "sns.distplot(receiving_dates_s.values.astype('datetime64'));"
   ]
  },
  {
   "cell_type": "markdown",
   "metadata": {},
   "source": [
    "### Location"
   ]
  },
  {
   "cell_type": "code",
   "execution_count": 21,
   "metadata": {},
   "outputs": [
    {
     "data": {
      "image/png": "[encoded data removed]",
      "text/plain": [
       "<Figure size 432x288 with 1 Axes>"
      ]
     },
     "metadata": {},
     "output_type": "display_data"
    }
   ],
   "source": [
    "(x.where(x.zip_code.isNotNull())\n",
    "  .groupBy('zip_code')\n",
    "  .count()\n",
    "  .orderBy(F.desc('count'))\n",
    "  .limit(20)\n",
    "  .toPandas()\n",
    "  .set_index('zip_code')\n",
    "  .plot(kind='bar'));"
   ]
  }
 ],
 "metadata": {
  "kernelspec": {
   "display_name": "Python 3",
   "language": "python",
   "name": "python3"
  },
  "language_info": {
   "codemirror_mode": {
    "name": "ipython",
    "version": 3
   },
   "file_extension": ".py",
   "mimetype": "text/x-python",
   "name": "python",
   "nbconvert_exporter": "python",
   "pygments_lexer": "ipython3",
   "version": "3.8.6"
  }
 },
 "nbformat": 4,
 "nbformat_minor": 4
}
